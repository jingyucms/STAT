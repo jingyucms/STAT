{
 "cells": [
  {
   "cell_type": "markdown",
   "metadata": {},
   "source": [
    "# Set up example code"
   ]
  },
  {
   "cell_type": "markdown",
   "metadata": {},
   "source": [
    "## Step 1: prepare input pickle file"
   ]
  },
  {
   "cell_type": "markdown",
   "metadata": {},
   "source": [
    "### Load stuff from text files"
   ]
  },
  {
   "cell_type": "code",
   "execution_count": 1,
   "metadata": {},
   "outputs": [
    {
     "name": "stdout",
     "output_type": "stream",
     "text": [
      "Warning: prediction error for PHENIX_200_Hadron_pi0_10_20 and design point 25 contains 0.000's\n",
      "Warning: prediction error for PHENIX_200_Hadron_pi0_10_20 and design point 176 contains 0.000's\n",
      "Warning: prediction error for PHENIX_200_Hadron_pi0_10_20 and design point 186 contains 0.000's\n",
      "Warning: prediction error for PHENIX_200_Hadron_pi0_20_30 and design point 117 contains 0.000's\n",
      "Warning: prediction error for PHENIX_200_Hadron_pi0_30_40 and design point 60 contains 0.000's\n",
      "Warning: prediction error for PHENIX_200_Hadron_pi0_40_50 and design point 6 contains 0.000's\n",
      "Design shape: (95, 6)\n"
     ]
    }
   ],
   "source": [
    "!python3 SetupAnalysis.py --Config yaml/Exponential20221012RBF_N10.yaml"
   ]
  },
  {
   "cell_type": "code",
   "execution_count": 2,
   "metadata": {},
   "outputs": [],
   "source": [
    "!python3 MakeDesignObservablePlot.py\n",
    "!python3 MakeDesignSpacePlot.py\n",
    "!python3 MakeCovarianceMatrixPlot.py"
   ]
  },
  {
   "cell_type": "markdown",
   "metadata": {},
   "source": [
    "### Optional: clean past files"
   ]
  },
  {
   "cell_type": "code",
   "execution_count": 3,
   "metadata": {},
   "outputs": [],
   "source": [
    "!python3 CleanPastFiles.py"
   ]
  },
  {
   "cell_type": "markdown",
   "metadata": {},
   "source": [
    "## Step 2: run emulator"
   ]
  },
  {
   "cell_type": "code",
   "execution_count": 4,
   "metadata": {},
   "outputs": [
    {
     "name": "stdout",
     "output_type": "stream",
     "text": [
      "[INFO][emulator] training emulator for system HeavyIon (10 PC, 50 restarts, alpha=0.00, kernel=RBFNoise, noise=-1.000000)\n",
      "[0.4        9.         7.60090246 7.60090246 1.5        7.60090246]\n",
      "[INFO][emulator] writing cache file cache/emulator/HeavyIon.pkl\n",
      "HeavyIon\n",
      "10 PCs explain 0.89519 of variance\n",
      "GP 0: 0.69332 of variance, LML = 60.027, kernel: RBF(length_scale=[0.176, 6.08, 201, 760, 3.23, 50.1]) + WhiteKernel(noise_level=0.00512)\n",
      "GP 1: 0.11281 of variance, LML = -129.24, kernel: RBF(length_scale=[40, 0.307, 9.98, 575, 0.0242, 760]) + WhiteKernel(noise_level=3.15e-06)\n",
      "GP 2: 0.03324 of variance, LML = -128.23, kernel: RBF(length_scale=[0.802, 900, 0.166, 2.43, 0.201, 4.56]) + WhiteKernel(noise_level=1e-08)\n",
      "GP 3: 0.01490 of variance, LML = -127.99, kernel: RBF(length_scale=[0.153, 900, 760, 55.2, 0.541, 760]) + WhiteKernel(noise_level=0.716)\n",
      "GP 4: 0.01133 of variance, LML = -75.489, kernel: RBF(length_scale=[0.175, 4.33, 760, 36.6, 2.87, 5.01]) + WhiteKernel(noise_level=0.149)\n",
      "GP 5: 0.00735 of variance, LML = -127.81, kernel: RBF(length_scale=[0.004, 900, 1.51, 2.05, 150, 760]) + WhiteKernel(noise_level=1e-08)\n",
      "GP 6: 0.00621 of variance, LML = -129.49, kernel: RBF(length_scale=[40, 900, 0.104, 760, 0.0276, 760]) + WhiteKernel(noise_level=1.4e-08)\n",
      "GP 7: 0.00587 of variance, LML = -128.63, kernel: RBF(length_scale=[0.0528, 1.64, 760, 1.03, 0.155, 760]) + WhiteKernel(noise_level=5.52e-08)\n",
      "GP 8: 0.00545 of variance, LML = -127.68, kernel: RBF(length_scale=[0.152, 5.83, 760, 0.078, 0.445, 7.42]) + WhiteKernel(noise_level=2.66e-08)\n",
      "GP 9: 0.00470 of variance, LML = -128.74, kernel: RBF(length_scale=[40, 0.0912, 4.05, 4.07, 150, 2]) + WhiteKernel(noise_level=0.000105)\n"
     ]
    }
   ],
   "source": [
    "!python3 RunEmulator.py"
   ]
  },
  {
   "cell_type": "code",
   "execution_count": null,
   "metadata": {},
   "outputs": [],
   "source": [
    "!python3 MakePCAPercentagePlot.py"
   ]
  },
  {
   "cell_type": "code",
   "execution_count": null,
   "metadata": {
    "scrolled": false
   },
   "outputs": [],
   "source": [
    "!python3 MakeDesignPredictedObservablePlot.py"
   ]
  },
  {
   "cell_type": "markdown",
   "metadata": {},
   "source": [
    "## Step 3: MCMC sampling"
   ]
  },
  {
   "cell_type": "code",
   "execution_count": null,
   "metadata": {},
   "outputs": [
    {
     "name": "stdout",
     "output_type": "stream",
     "text": [
      "{'walker': 50, 'burn': 2000, 'step': 1000}\n",
      "[INFO][mcmc] no existing chain found, starting initial burn-in\n",
      "[INFO][mcmc] step 100: acceptance fraction: mean 0.2678, std 0.0700, min 0.1200, max 0.4000\n",
      "[INFO][mcmc] step 200: acceptance fraction: mean 0.2320, std 0.0468, min 0.1300, max 0.3300\n",
      "[INFO][mcmc] step 300: acceptance fraction: mean 0.2135, std 0.0416, min 0.1367, max 0.2900\n",
      "[INFO][mcmc] step 400: acceptance fraction: mean 0.2065, std 0.0403, min 0.1175, max 0.2850\n",
      "[INFO][mcmc] step 500: acceptance fraction: mean 0.2045, std 0.0391, min 0.1160, max 0.2800\n",
      "[INFO][mcmc] step 600: acceptance fraction: mean 0.2015, std 0.0374, min 0.1200, max 0.2700\n",
      "[INFO][mcmc] step 700: acceptance fraction: mean 0.2008, std 0.0355, min 0.1171, max 0.2600\n",
      "[INFO][mcmc] step 800: acceptance fraction: mean 0.2037, std 0.0355, min 0.1113, max 0.2637\n",
      "[INFO][mcmc] step 900: acceptance fraction: mean 0.2050, std 0.0359, min 0.1089, max 0.2700\n",
      "[INFO][mcmc] step 1000: acceptance fraction: mean 0.2058, std 0.0362, min 0.1080, max 0.2660\n",
      "[INFO][mcmc] resampling walker positions\n",
      "[INFO][mcmc] step 100: acceptance fraction: mean 0.2556, std 0.0770, min 0.0600, max 0.4500\n",
      "[INFO][mcmc] step 200: acceptance fraction: mean 0.2565, std 0.0603, min 0.0550, max 0.3750\n",
      "[INFO][mcmc] step 300: acceptance fraction: mean 0.2570, std 0.0476, min 0.1500, max 0.3467\n",
      "[INFO][mcmc] step 400: acceptance fraction: mean 0.2574, std 0.0421, min 0.1575, max 0.3300\n",
      "[INFO][mcmc] step 500: acceptance fraction: mean 0.2562, std 0.0393, min 0.1340, max 0.3280\n",
      "[INFO][mcmc] step 600: acceptance fraction: mean 0.2565, std 0.0370, min 0.1367, max 0.3183\n",
      "[INFO][mcmc] step 700: acceptance fraction: mean 0.2543, std 0.0348, min 0.1643, max 0.3029\n",
      "[INFO][mcmc] step 800: acceptance fraction: mean 0.2539, std 0.0315, min 0.1737, max 0.2988\n",
      "[INFO][mcmc] step 900: acceptance fraction: mean 0.2550, std 0.0293, min 0.1800, max 0.3067\n",
      "[INFO][mcmc] step 1000: acceptance fraction: mean 0.2566, std 0.0276, min 0.1790, max 0.3110\n",
      "[INFO][mcmc] burn-in complete, starting production\n",
      "[INFO][mcmc] step 100: acceptance fraction: mean 0.2628, std 0.0661, min 0.0900, max 0.4200\n",
      "[INFO][mcmc] step 200: acceptance fraction: mean 0.2527, std 0.0514, min 0.1500, max 0.3750\n",
      "[INFO][mcmc] step 300: acceptance fraction: mean 0.2517, std 0.0464, min 0.1667, max 0.3300\n"
     ]
    }
   ],
   "source": [
    "!python3 RunMCMC.py"
   ]
  },
  {
   "cell_type": "markdown",
   "metadata": {},
   "source": [
    "## Step 4: Analyze posterior samples"
   ]
  },
  {
   "cell_type": "code",
   "execution_count": null,
   "metadata": {},
   "outputs": [],
   "source": [
    "!python3 MakeMCMCSamplingPlot.py"
   ]
  },
  {
   "cell_type": "markdown",
   "metadata": {},
   "source": [
    "## Step 5: adding all sorts of plots"
   ]
  },
  {
   "cell_type": "code",
   "execution_count": null,
   "metadata": {},
   "outputs": [],
   "source": [
    "!python3 MakePosteriorCorrelationPlot.py"
   ]
  },
  {
   "cell_type": "code",
   "execution_count": null,
   "metadata": {},
   "outputs": [],
   "source": [
    "!python3 MakePosteriorObservablePlot.py"
   ]
  },
  {
   "cell_type": "code",
   "execution_count": null,
   "metadata": {},
   "outputs": [],
   "source": [
    "!python3 WriteToText.py"
   ]
  },
  {
   "cell_type": "markdown",
   "metadata": {},
   "source": [
    "# Debug Area"
   ]
  },
  {
   "cell_type": "code",
   "execution_count": null,
   "metadata": {},
   "outputs": [],
   "source": [
    "import pickle\n",
    "AllData = {}\n",
    "with open('input/default.p', 'rb') as handle:\n",
    "    AllData = pickle.load(handle)"
   ]
  },
  {
   "cell_type": "code",
   "execution_count": null,
   "metadata": {},
   "outputs": [],
   "source": [
    "AllData"
   ]
  },
  {
   "cell_type": "code",
   "execution_count": null,
   "metadata": {},
   "outputs": [],
   "source": []
  }
 ],
 "metadata": {
  "kernelspec": {
   "display_name": "Python 3",
   "language": "python",
   "name": "python3"
  },
  "language_info": {
   "codemirror_mode": {
    "name": "ipython",
    "version": 3
   },
   "file_extension": ".py",
   "mimetype": "text/x-python",
   "name": "python",
   "nbconvert_exporter": "python",
   "pygments_lexer": "ipython3",
   "version": "3.6.9"
  }
 },
 "nbformat": 4,
 "nbformat_minor": 2
}
