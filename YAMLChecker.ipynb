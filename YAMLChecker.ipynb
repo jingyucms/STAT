{
 "cells": [
  {
   "cell_type": "code",
   "execution_count": 77,
   "metadata": {},
   "outputs": [],
   "source": [
    "import os.path\n",
    "from os import path\n",
    "import src.reader as Reader\n",
    "import shutil\n",
    "import yaml\n",
    "import subprocess\n",
    "\n",
    "# YamlConfig = 'yaml/Binomial20221007RBF_N4.yaml'\n",
    "YamlConfig = 'yaml/Binomial20221007FixedRBF_N4.yaml'"
   ]
  },
  {
   "cell_type": "code",
   "execution_count": 78,
   "metadata": {},
   "outputs": [
    {
     "name": "stdout",
     "output_type": "stream",
     "text": [
      "Check finished.  If nothing shows up it's ok.\n"
     ]
    }
   ],
   "source": [
    "# Check if all the prediction files are present\n",
    "with open(YamlConfig, \"r\") as stream:\n",
    "    Setup = yaml.safe_load(stream)\n",
    "\n",
    "for Item in Setup['Data']:\n",
    "    if path.isfile(Setup['BaseDirectory'] + '/' + Setup['Data'][Item]['Prediction']) == False:\n",
    "        print('File not found: ' + Setup['Data'][Item]['Prediction'])\n",
    "    if path.isfile(Setup['BaseDirectory'] + '/' + Setup['Data'][Item]['PredictionError']) == False:\n",
    "        print('File not found: ' + Setup['Data'][Item]['Prediction'])\n",
    "\n",
    "print(\"Check finished.  If nothing shows up it's ok.\")"
   ]
  },
  {
   "cell_type": "code",
   "execution_count": 79,
   "metadata": {},
   "outputs": [
    {
     "name": "stdout",
     "output_type": "stream",
     "text": [
      "Check finished.  If nothings shows up it's ok.\n"
     ]
    }
   ],
   "source": [
    "# Check number of points in data vs calculation & error\n",
    "with open(YamlConfig, \"r\") as stream:\n",
    "    Setup = yaml.safe_load(stream)\n",
    "\n",
    "for Item in Setup['Data']:\n",
    "    Data = Reader.ReadData(Setup['BaseDirectory'] + Setup['Data'][Item]['Data'])\n",
    "    Prediction = Reader.ReadPrediction(Setup['BaseDirectory'] + Setup['Data'][Item]['Prediction'])\n",
    "    PredictionError = Reader.ReadPrediction(Setup['BaseDirectory'] + Setup['Data'][Item]['PredictionError'])\n",
    "    \n",
    "    DataPoints = Data['Data']['x'].shape[0]\n",
    "    if 'DataExclude' in Setup['Data'][Item]:\n",
    "        DataPoints = DataPoints - len(Setup['Data'][Item]['DataExclude'])\n",
    "        \n",
    "    PredictionPoints = Prediction['Prediction'].shape[1]\n",
    "    if 'PredictionExclude' in Setup['Data'][Item]:\n",
    "        PredictionPoints = PredictionPoints - len(Setup['Data'][Item]['PredictionExclude'])\n",
    "    \n",
    "    PredictionErrorPoints = PredictionError['Prediction'].shape[1]\n",
    "    if 'PredictionExclude' in Setup['Data'][Item]:\n",
    "        PredictionErrorPoints = PredictionErrorPoints - len(Setup['Data'][Item]['PredictionExclude'])\n",
    "    \n",
    "    if DataPoints != PredictionPoints or DataPoints != PredictionErrorPoints:\n",
    "        print(f'{Item}: Data = {DataPoints}, Prediction = {PredictionPoints}, Error = {PredictionErrorPoints}')\n",
    "\n",
    "print(\"Check finished.  If nothings shows up it's ok.\")"
   ]
  },
  {
   "cell_type": "code",
   "execution_count": 80,
   "metadata": {},
   "outputs": [
    {
     "name": "stdout",
     "output_type": "stream",
     "text": [
      "Check finished.  If nothings shows up it's ok.\n"
     ]
    }
   ],
   "source": [
    "# First check if number of design points match between calculation and error\n",
    "with open(YamlConfig, \"r\") as stream:\n",
    "    Setup = yaml.safe_load(stream)\n",
    "\n",
    "for Item in Setup['Data']:\n",
    "    Prediction = Reader.ReadPrediction(Setup['BaseDirectory'] + Setup['Data'][Item]['Prediction'])\n",
    "    PredictionError = Reader.ReadPrediction(Setup['BaseDirectory'] + Setup['Data'][Item]['PredictionError'])\n",
    "    \n",
    "    PredictionPoints = Prediction['Prediction'].shape[0]\n",
    "    PredictionErrorPoints = PredictionError['Prediction'].shape[0]\n",
    "    \n",
    "    if PredictionPoints != PredictionErrorPoints:\n",
    "        print(f'{Item}: Prediction has {PredictionPoints} design points but PredictionError has {PredictionErrorPoints}')\n",
    "\n",
    "print(\"Check finished.  If nothings shows up it's ok.\")"
   ]
  },
  {
   "cell_type": "code",
   "execution_count": 81,
   "metadata": {},
   "outputs": [
    {
     "name": "stdout",
     "output_type": "stream",
     "text": [
      "Max number of design points is 177\n",
      "Number of design points in the design file is 200\n",
      "Check finished.  If nothings shows up it's ok.\n"
     ]
    }
   ],
   "source": [
    "# Now check if number of design points match across items\n",
    "with open(YamlConfig, \"r\") as stream:\n",
    "    Setup = yaml.safe_load(stream)\n",
    "\n",
    "MaxDesign = 0\n",
    "\n",
    "for Item in Setup['Data']:\n",
    "    Prediction = Reader.ReadPrediction(Setup['BaseDirectory'] + Setup['Data'][Item]['Prediction'])\n",
    "    if MaxDesign < Prediction['Prediction'].shape[0]:\n",
    "        MaxDesign = Prediction['Prediction'].shape[0]\n",
    "\n",
    "print(f'Max number of design points is {MaxDesign}')\n",
    "\n",
    "Design = Reader.ReadDesign(Setup['BaseDirectory'] + Setup['Design']['File'])\n",
    "\n",
    "TotalDesign = Design['Design'].shape[0]\n",
    "\n",
    "print(f'Number of design points in the design file is {TotalDesign}')\n",
    "\n",
    "Changed = False\n",
    "\n",
    "for Item in Setup['Data']:\n",
    "    Prediction = Reader.ReadPrediction(Setup['BaseDirectory'] + Setup['Data'][Item]['Prediction'])\n",
    "\n",
    "    GuessedList = []\n",
    "    with open(Setup['BaseDirectory'] + Setup['Data'][Item]['Prediction']) as f:\n",
    "        for Line in f:\n",
    "            if 'design_point' not in Line:\n",
    "                continue\n",
    "            Line = Line.replace('design_point', '')\n",
    "                \n",
    "            Items = Line.split()\n",
    "            if(len(Items) < 2):\n",
    "                continue\n",
    "            if Items[0] != '#':\n",
    "                continue\n",
    "                \n",
    "            GuessedList = [int(i) for i in Items if i != '#']\n",
    "    \n",
    "    if 'PredictionMissing' in Setup['Data'][Item]:\n",
    "        for i in Setup['Data'][Item]['PredictionMissing']:\n",
    "            if i in GuessedList:\n",
    "                print(f'{Item}: Design point {i} is in both the header and the PredictionMissing list')\n",
    "    \n",
    "    # print(Item, GuessedList, PredictionMissing)\n",
    "    \n",
    "    CorrectPrediction = [i for i in range(TotalDesign) if i not in GuessedList]\n",
    "    \n",
    "    if len(CorrectPrediction) == 0:\n",
    "        if 'PredictionMissing' in Setup['Data'][Item]:\n",
    "            print(f'{Item}: nothing is missing, please remove the PredictionMissing line')\n",
    "            Setup['Data'][Item].pop('PredictionMissing')\n",
    "            Changed = True\n",
    "    else:\n",
    "        if 'PredictionMissing' not in Setup['Data'][Item] or CorrectPrediction != Setup['Data'][Item]['PredictionMissing']:\n",
    "            print(f'{Item}: please update the list of missing prediction to')\n",
    "            print(f'    PredictionMissing: {CorrectPrediction}')\n",
    "            Setup['Data'][Item]['PredictionMissing'] = CorrectPrediction\n",
    "            Changed = True\n",
    "\n",
    "if Changed == True:\n",
    "    print(\"Check finished.  Some changes are recommended.  Saved to temp.yaml\")\n",
    "    with open(r'temp.yaml', 'w') as file:\n",
    "        yaml.safe_dump(Setup, file, indent=2, allow_unicode=False, default_flow_style=None, line_break=None)\n",
    "\n",
    "else:\n",
    "    print(\"Check finished.  If nothings shows up it's ok.\")\n",
    "\n"
   ]
  },
  {
   "cell_type": "code",
   "execution_count": null,
   "metadata": {},
   "outputs": [],
   "source": []
  }
 ],
 "metadata": {
  "kernelspec": {
   "display_name": "Python 3",
   "language": "python",
   "name": "python3"
  },
  "language_info": {
   "codemirror_mode": {
    "name": "ipython",
    "version": 3
   },
   "file_extension": ".py",
   "mimetype": "text/x-python",
   "name": "python",
   "nbconvert_exporter": "python",
   "pygments_lexer": "ipython3",
   "version": "3.6.9"
  }
 },
 "nbformat": 4,
 "nbformat_minor": 4
}
